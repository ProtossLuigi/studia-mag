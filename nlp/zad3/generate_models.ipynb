{
 "cells": [
  {
   "cell_type": "code",
   "execution_count": 3,
   "metadata": {},
   "outputs": [],
   "source": [
    "import pandas as pd\n",
    "import fasttext"
   ]
  },
  {
   "cell_type": "code",
   "execution_count": 5,
   "metadata": {},
   "outputs": [],
   "source": [
    "data = pd.read_csv('../corpora/sample.csv')\n",
    "with open('temp.txt', 'w', encoding='utf8') as f:\n",
    "    f.writelines(data['text'].astype(str))"
   ]
  },
  {
   "cell_type": "code",
   "execution_count": null,
   "metadata": {},
   "outputs": [],
   "source": [
    "# r = re.compile('.*\\w.*')\n",
    "# lemmatizer = nltk.WordNetLemmatizer()\n",
    "\n",
    "# def clean_tokens(tokens):\n",
    "#     tokens = [lemmatizer.lemmatize(token.lower()) for token in tokens if r.match(token) and token.lower() not in stopwords.words('english')]\n",
    "#     return tokens\n",
    "\n",
    "# data['tokens'] = data['tokens'].apply(clean_tokens)\n",
    "# data = data.drop(data[data['tokens'].str.len() == 0].index)"
   ]
  },
  {
   "cell_type": "code",
   "execution_count": null,
   "metadata": {},
   "outputs": [],
   "source": [
    "# lemmatizer = nltk.WordNetLemmatizer()\n",
    "# data['tokens'] = data['text'].apply(nltk.word_tokenize).apply(lambda x: [lemmatizer.lemmatize(token) for token in x])"
   ]
  },
  {
   "cell_type": "code",
   "execution_count": 9,
   "metadata": {},
   "outputs": [],
   "source": [
    "sample_m1 = fasttext.train_unsupervised('temp.txt', model='cbow')\n",
    "sample_m1.save_model('../dist_models/sample_m1.bin')"
   ]
  },
  {
   "cell_type": "code",
   "execution_count": 10,
   "metadata": {},
   "outputs": [],
   "source": [
    "sample_m1 = fasttext.train_unsupervised('temp.txt', model='skipgram')\n",
    "sample_m1.save_model('../dist_models/sample_m2.bin')"
   ]
  }
 ],
 "metadata": {
  "interpreter": {
   "hash": "ae9258babb9dc6183a521d7a445c874d7696eb0fb582154c3a2ca8b33699b65d"
  },
  "kernelspec": {
   "display_name": "Python 3.9.6 64-bit",
   "language": "python",
   "name": "python3"
  },
  "language_info": {
   "codemirror_mode": {
    "name": "ipython",
    "version": 3
   },
   "file_extension": ".py",
   "mimetype": "text/x-python",
   "name": "python",
   "nbconvert_exporter": "python",
   "pygments_lexer": "ipython3",
   "version": "3.9.6"
  },
  "orig_nbformat": 4
 },
 "nbformat": 4,
 "nbformat_minor": 2
}
