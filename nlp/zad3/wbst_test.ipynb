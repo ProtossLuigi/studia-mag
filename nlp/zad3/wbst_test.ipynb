{
 "cells": [
  {
   "cell_type": "code",
   "execution_count": 1,
   "metadata": {},
   "outputs": [],
   "source": [
    "import fasttext\n",
    "import os\n",
    "import pandas as pd\n",
    "import numpy as np\n",
    "from sklearn.metrics.pairwise import cosine_similarity\n",
    "from sklearn.metrics import accuracy_score, precision_score, recall_score, f1_score"
   ]
  },
  {
   "cell_type": "code",
   "execution_count": 2,
   "metadata": {},
   "outputs": [],
   "source": [
    "df = pd.read_csv('../wbst/min1000_eng.wbst.csv', encoding='utf8')"
   ]
  },
  {
   "cell_type": "code",
   "execution_count": 3,
   "metadata": {},
   "outputs": [],
   "source": [
    "def get_true(df):\n",
    "    for row in df.iterrows():\n",
    "        for i in range(4):\n",
    "            if row[1]['odpowiedź'] == row[1]['termin ' + str(i+1)]:\n",
    "                yield i\n",
    "\n",
    "def make_vectorizer(model):\n",
    "    def vectorize(row):\n",
    "        return model.get_word_vector(row['pytanie']), model.get_word_vector(row['termin 1']), model.get_word_vector(row['termin 2']), model.get_word_vector(row['termin 3']), model.get_word_vector(row['termin 4'])\n",
    "    return vectorize\n",
    "\n",
    "l = len(df)\n",
    "y_true = np.zeros(l)\n",
    "for i in range(1, 4):\n",
    "    mask = df['odpowiedź'] == df['termin ' + str(i+1)]\n",
    "    y_true[mask] = np.full_like(y_true, i)[mask]"
   ]
  },
  {
   "cell_type": "code",
   "execution_count": 4,
   "metadata": {},
   "outputs": [
    {
     "name": "stderr",
     "output_type": "stream",
     "text": [
      "Warning : `load_model` does not return WordVectorModel or SupervisedModel any more, but a `FastText` object which is very similar.\n",
      "Warning : `load_model` does not return WordVectorModel or SupervisedModel any more, but a `FastText` object which is very similar.\n",
      "Warning : `load_model` does not return WordVectorModel or SupervisedModel any more, but a `FastText` object which is very similar.\n",
      "Warning : `load_model` does not return WordVectorModel or SupervisedModel any more, but a `FastText` object which is very similar.\n"
     ]
    }
   ],
   "source": [
    "metrics = pd.DataFrame(columns=['model', 'accuracy', 'precision', 'recall', 'f1'])\n",
    "for model_path in os.listdir('../dist_models'):\n",
    "    model_path = '../dist_models/' + model_path\n",
    "    vectorizer = fasttext.FastText.load_model(model_path)\n",
    "    query_vec = np.stack(df['pytanie'].apply(vectorizer.get_word_vector))\n",
    "    ans_vec = [np.stack(df['termin ' + str(i+1)].apply(vectorizer.get_word_vector)) for i in range(4)]\n",
    "    sims = np.stack([np.diag(cosine_similarity(query_vec, ans_i_vec)) for ans_i_vec in ans_vec])\n",
    "    y_pred = np.argmax(sims, axis=0)\n",
    "    m = {\n",
    "        'model': model_path[15:-4],\n",
    "        'accuracy': accuracy_score(y_true, y_pred),\n",
    "        'precision': precision_score(y_true, y_pred, average='weighted'),\n",
    "        'recall': recall_score(y_true, y_pred, average='weighted'),\n",
    "        'f1': f1_score(y_true, y_pred, average='weighted')\n",
    "    }\n",
    "    metrics = metrics.append(m, ignore_index=True)"
   ]
  },
  {
   "cell_type": "code",
   "execution_count": 5,
   "metadata": {},
   "outputs": [
    {
     "data": {
      "text/html": [
       "<div>\n",
       "<style scoped>\n",
       "    .dataframe tbody tr th:only-of-type {\n",
       "        vertical-align: middle;\n",
       "    }\n",
       "\n",
       "    .dataframe tbody tr th {\n",
       "        vertical-align: top;\n",
       "    }\n",
       "\n",
       "    .dataframe thead th {\n",
       "        text-align: right;\n",
       "    }\n",
       "</style>\n",
       "<table border=\"1\" class=\"dataframe\">\n",
       "  <thead>\n",
       "    <tr style=\"text-align: right;\">\n",
       "      <th></th>\n",
       "      <th>model</th>\n",
       "      <th>accuracy</th>\n",
       "      <th>precision</th>\n",
       "      <th>recall</th>\n",
       "      <th>f1</th>\n",
       "    </tr>\n",
       "  </thead>\n",
       "  <tbody>\n",
       "    <tr>\n",
       "      <th>0</th>\n",
       "      <td>full_m1</td>\n",
       "      <td>0.576437</td>\n",
       "      <td>0.576853</td>\n",
       "      <td>0.576437</td>\n",
       "      <td>0.576460</td>\n",
       "    </tr>\n",
       "    <tr>\n",
       "      <th>1</th>\n",
       "      <td>full_m2</td>\n",
       "      <td>0.594791</td>\n",
       "      <td>0.595828</td>\n",
       "      <td>0.594791</td>\n",
       "      <td>0.594966</td>\n",
       "    </tr>\n",
       "    <tr>\n",
       "      <th>2</th>\n",
       "      <td>sample_m1</td>\n",
       "      <td>0.541598</td>\n",
       "      <td>0.541853</td>\n",
       "      <td>0.541598</td>\n",
       "      <td>0.541654</td>\n",
       "    </tr>\n",
       "    <tr>\n",
       "      <th>3</th>\n",
       "      <td>sample_m2</td>\n",
       "      <td>0.545884</td>\n",
       "      <td>0.546567</td>\n",
       "      <td>0.545884</td>\n",
       "      <td>0.545972</td>\n",
       "    </tr>\n",
       "  </tbody>\n",
       "</table>\n",
       "</div>"
      ],
      "text/plain": [
       "       model  accuracy  precision    recall        f1\n",
       "0    full_m1  0.576437   0.576853  0.576437  0.576460\n",
       "1    full_m2  0.594791   0.595828  0.594791  0.594966\n",
       "2  sample_m1  0.541598   0.541853  0.541598  0.541654\n",
       "3  sample_m2  0.545884   0.546567  0.545884  0.545972"
      ]
     },
     "execution_count": 5,
     "metadata": {},
     "output_type": "execute_result"
    }
   ],
   "source": [
    "metrics"
   ]
  }
 ],
 "metadata": {
  "interpreter": {
   "hash": "ae9258babb9dc6183a521d7a445c874d7696eb0fb582154c3a2ca8b33699b65d"
  },
  "kernelspec": {
   "display_name": "Python 3.9.6 64-bit",
   "language": "python",
   "name": "python3"
  },
  "language_info": {
   "codemirror_mode": {
    "name": "ipython",
    "version": 3
   },
   "file_extension": ".py",
   "mimetype": "text/x-python",
   "name": "python",
   "nbconvert_exporter": "python",
   "pygments_lexer": "ipython3",
   "version": "3.9.6"
  },
  "orig_nbformat": 4
 },
 "nbformat": 4,
 "nbformat_minor": 2
}
