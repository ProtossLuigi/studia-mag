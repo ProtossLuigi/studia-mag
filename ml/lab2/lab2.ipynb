{
 "cells": [
  {
   "cell_type": "code",
   "execution_count": 1,
   "id": "prospective-increase",
   "metadata": {},
   "outputs": [],
   "source": [
    "import numpy as np\n",
    "import pandas as pd\n",
    "import seaborn as sns\n",
    "from sklearn.model_selection import train_test_split\n",
    "import matplotlib.pyplot as plt"
   ]
  },
  {
   "cell_type": "code",
   "execution_count": 2,
   "id": "abandoned-overhead",
   "metadata": {},
   "outputs": [],
   "source": [
    "iris_df = pd.read_csv('iris.data', header=None, names=['sepal length', 'sepal width', 'petal length', 'petal width', 'class'])\n",
    "glass_df = pd.read_csv('glass.data', index_col=0, header=None, names=['Id', 'RI', 'Na', 'Mg', 'Al', 'Si', 'K', 'Ca', 'Ba', 'Fe', 'class'])\n",
    "wine_df = pd.read_csv('wine.data', header=None, names=['class', 'Alcohol', 'Malic acid', 'Ash', 'Alcalinity of ash', 'Magnesium', 'Total phenols', 'Flavanoids', 'Nonflavanoid phenols', 'Proanthocyanins', 'Color intensity', 'Hue', 'OD280/OD315 of diluted wines', 'Proline'])"
   ]
  },
  {
   "cell_type": "code",
   "execution_count": 3,
   "id": "breeding-tenant",
   "metadata": {},
   "outputs": [],
   "source": [
    "def split_df(df, test_size=None):\n",
    "    X = df[[col for col in df if col != 'class']]\n",
    "    y = df['class']\n",
    "    return X, y"
   ]
  },
  {
   "cell_type": "code",
   "execution_count": 4,
   "id": "quick-portrait",
   "metadata": {},
   "outputs": [],
   "source": [
    "from sklearn.neighbors import KNeighborsClassifier\n",
    "def knn(x, y, k = 5, weights = 'uniform', p = 2, metric = 'minkowski'):\n",
    "    classifier = KNeighborsClassifier(n_neighbors = k, weights = weights, p = p, metric = metric, n_jobs = -1)\n",
    "    classifier.fit(x, y)\n",
    "    return classifier"
   ]
  },
  {
   "cell_type": "code",
   "execution_count": 5,
   "id": "injured-closure",
   "metadata": {},
   "outputs": [],
   "source": [
    "X, y = split_df(iris_df)\n",
    "X_train, X_test, y_train, y_test = train_test_split(X, y, test_size=0.33)\n",
    "clf = knn(X_train, y_train)"
   ]
  },
  {
   "cell_type": "code",
   "execution_count": 6,
   "id": "threaded-joint",
   "metadata": {},
   "outputs": [
    {
     "data": {
      "text/plain": [
       "<sklearn.metrics._plot.confusion_matrix.ConfusionMatrixDisplay at 0x1ff8830c2e0>"
      ]
     },
     "execution_count": 6,
     "metadata": {},
     "output_type": "execute_result"
    },
    {
     "data": {
      "image/png": "[encoded data removed]",
      "text/plain": [
       "<Figure size 432x288 with 2 Axes>"
      ]
     },
     "metadata": {
      "needs_background": "light"
     },
     "output_type": "display_data"
    }
   ],
   "source": [
    "import sklearn.metrics as metrics\n",
    "metrics.plot_confusion_matrix(clf, X_test, y_test)"
   ]
  },
  {
   "cell_type": "code",
   "execution_count": 7,
   "id": "latter-affiliation",
   "metadata": {},
   "outputs": [],
   "source": [
    "def get_stats(X_train, X_test, y_train, y_test):\n",
    "    clr = knn(X_train, y_train)\n",
    "    y_pred = clr.predict(X_test)\n",
    "    print('classes:', y_test.unique())\n",
    "    print('precision:', metrics.precision_score(y_test, y_pred, average=None))\n",
    "    print('recall:', metrics.recall_score(y_test, y_pred, average=None))\n",
    "    print('f-score:', metrics.f1_score(y_test, y_pred, average=None))\n",
    "    print('accuracy:', metrics.accuracy_score(y_test, y_pred))"
   ]
  },
  {
   "cell_type": "code",
   "execution_count": 8,
   "id": "behind-possibility",
   "metadata": {},
   "outputs": [
    {
     "name": "stdout",
     "output_type": "stream",
     "text": [
      "classes: ['Iris-virginica' 'Iris-versicolor' 'Iris-setosa']\n",
      "precision: [1. 1. 1.]\n",
      "recall: [1. 1. 1.]\n",
      "f-score: [1. 1. 1.]\n",
      "accuracy: 1.0\n"
     ]
    }
   ],
   "source": [
    "get_stats(X_train, X_test, y_train, y_test)"
   ]
  },
  {
   "cell_type": "code",
   "execution_count": 9,
   "id": "ignored-identity",
   "metadata": {
    "scrolled": true
   },
   "outputs": [],
   "source": [
    "from sklearn.model_selection import cross_val_score, KFold, LeaveOneOut\n",
    "def test_cv(X, y):\n",
    "    for folds in [2,5,10]:\n",
    "        clr = KNeighborsClassifier(n_jobs=-1)\n",
    "        print(folds, 'folds:')\n",
    "        print('\\tno shuffle:', cross_val_score(clr, X, y, cv=KFold(folds), scoring='f1_weighted', n_jobs=-1).mean())\n",
    "        print('\\tshuffle:', cross_val_score(clr, X, y, cv=KFold(folds, shuffle=True), scoring='f1_weighted', n_jobs=-1).mean())\n",
    "    print('leave one out:', cross_val_score(clr, X, y, cv=LeaveOneOut(), scoring='f1_weighted', n_jobs=-1).mean())"
   ]
  },
  {
   "cell_type": "code",
   "execution_count": 10,
   "id": "technological-closure",
   "metadata": {
    "scrolled": true
   },
   "outputs": [
    {
     "name": "stdout",
     "output_type": "stream",
     "text": [
      "2 folds:\n",
      "\tno shuffle: 0.15893470790378006\n",
      "\tshuffle: 0.9534017971758664\n",
      "5 folds:\n",
      "\tno shuffle: 0.9465178096757045\n",
      "\tshuffle: 0.9665951005528244\n",
      "10 folds:\n",
      "\tno shuffle: 0.9634920634920634\n",
      "\tshuffle: 0.959030303030303\n",
      "leave one out: 0.9666666666666667\n"
     ]
    }
   ],
   "source": [
    "test_cv(X, y)"
   ]
  },
  {
   "cell_type": "markdown",
   "id": "automatic-thursday",
   "metadata": {},
   "source": [
    "Dla zbiorów Iris, Glass i Wine mieszanie danych jest konieczne, ponieważ są one posortowane według klas, co powoduje, że w jednym foldzie mogą znaleźć się obiekty tylko 1 klasy.\n",
    "\n",
    "Wadami leave one out są jego koszt czasowy, duża wariancja wyników i to że każdy zbiór uczący jest prawie taki sam jak cały zbiór początkowy, co nie chroni przed przeuczeniem. Lepiej jest używać zwykłego folda."
   ]
  },
  {
   "cell_type": "code",
   "execution_count": 11,
   "id": "closed-strengthening",
   "metadata": {},
   "outputs": [],
   "source": [
    "def test_k_neighbors(X, y):\n",
    "    _x = list(range(1,16))\n",
    "    _y = []\n",
    "    for k in _x:\n",
    "        clr = KNeighborsClassifier(n_neighbors = k)\n",
    "        _y.append(cross_val_score(clr, X, y, cv=KFold(shuffle=True), scoring='f1_weighted', n_jobs=-1))\n",
    "    plt.boxplot(_y, labels = _x)"
   ]
  },
  {
   "cell_type": "code",
   "execution_count": 12,
   "id": "spiritual-excess",
   "metadata": {},
   "outputs": [
    {
     "data": {
      "image/png": "[encoded data removed]",
      "text/plain": [
       "<Figure size 432x288 with 1 Axes>"
      ]
     },
     "metadata": {
      "needs_background": "light"
     },
     "output_type": "display_data"
    }
   ],
   "source": [
    "test_k_neighbors(X, y)"
   ]
  },
  {
   "cell_type": "markdown",
   "id": "capable-garden",
   "metadata": {},
   "source": [
    "Często dla `k` parzystego dokładność jest gorsza niż dla nieparzystego, ponieważ dochodzi do sytuacji, gdzie wśród sąsiadów punktu jest tyle samo punktów jednej klasy, jak i drugiej."
   ]
  },
  {
   "cell_type": "code",
   "execution_count": 13,
   "id": "alternative-collins",
   "metadata": {},
   "outputs": [],
   "source": [
    "def test_weights(X, y):\n",
    "    _x = ['uniform', 'distance', 'log distance']\n",
    "    _y = []\n",
    "    def log_dist(x):\n",
    "        return np.log(1 / 1 + x)\n",
    "    for w in ['uniform', 'distance', log_dist]:\n",
    "        clr = KNeighborsClassifier(weights = w)\n",
    "        _y.append(cross_val_score(clr, X, y, cv=KFold(shuffle=True), scoring='f1_weighted', n_jobs=-1))\n",
    "    plt.boxplot(_y, labels = _x)"
   ]
  },
  {
   "cell_type": "code",
   "execution_count": 14,
   "id": "protective-external",
   "metadata": {},
   "outputs": [
    {
     "data": {
      "image/png": "[encoded data removed]",
      "text/plain": [
       "<Figure size 432x288 with 1 Axes>"
      ]
     },
     "metadata": {
      "needs_background": "light"
     },
     "output_type": "display_data"
    }
   ],
   "source": [
    "test_weights(X, y)"
   ]
  },
  {
   "cell_type": "code",
   "execution_count": 15,
   "id": "refined-scene",
   "metadata": {},
   "outputs": [],
   "source": [
    "def test_metrics(X, y):\n",
    "    _x = ['euclidean', 'manhattan', 'minkowski3']\n",
    "    _y = []\n",
    "    def log_dist(x):\n",
    "        return np.log(1 / 1 + x)\n",
    "    for p in [2,1,3]:\n",
    "        clr = KNeighborsClassifier(p = p)\n",
    "        _y.append(cross_val_score(clr, X, y, cv=KFold(shuffle=True), scoring='f1_weighted', n_jobs=-1))\n",
    "    plt.boxplot(_y, labels = _x)"
   ]
  },
  {
   "cell_type": "code",
   "execution_count": 16,
   "id": "golden-easter",
   "metadata": {
    "scrolled": false
   },
   "outputs": [
    {
     "data": {
      "image/png": "[encoded data removed]",
      "text/plain": [
       "<Figure size 432x288 with 1 Axes>"
      ]
     },
     "metadata": {
      "needs_background": "light"
     },
     "output_type": "display_data"
    }
   ],
   "source": [
    "test_metrics(X, y)"
   ]
  },
  {
   "cell_type": "code",
   "execution_count": 17,
   "id": "premier-kruger",
   "metadata": {},
   "outputs": [],
   "source": [
    "from sklearn.model_selection import StratifiedKFold\n",
    "def test_k_neighbors_stratify(X, y, stratify=True):\n",
    "    _x = list(range(2, 12))\n",
    "    _y = []\n",
    "    for k in _x:\n",
    "        clr = KNeighborsClassifier()\n",
    "        if stratify:\n",
    "            _y.append(cross_val_score(clr, X, y, cv=StratifiedKFold(n_splits=k, shuffle=True), scoring='f1_weighted', n_jobs=-1))\n",
    "        else:\n",
    "            _y.append(cross_val_score(clr, X, y, cv=KFold(n_splits=k, shuffle=True), scoring='f1_weighted', n_jobs=-1))\n",
    "    plt.boxplot(_y, labels = _x)"
   ]
  },
  {
   "cell_type": "markdown",
   "id": "amateur-steps",
   "metadata": {},
   "source": [
    "## Stratyfikacja"
   ]
  },
  {
   "cell_type": "code",
   "execution_count": 18,
   "id": "strategic-render",
   "metadata": {},
   "outputs": [
    {
     "data": {
      "image/png": "[encoded data removed]",
      "text/plain": [
       "<Figure size 432x288 with 1 Axes>"
      ]
     },
     "metadata": {
      "needs_background": "light"
     },
     "output_type": "display_data"
    }
   ],
   "source": [
    "test_k_neighbors_stratify(X, y, False)"
   ]
  },
  {
   "cell_type": "code",
   "execution_count": 19,
   "id": "whole-nutrition",
   "metadata": {},
   "outputs": [
    {
     "data": {
      "image/png": "[encoded data removed]",
      "text/plain": [
       "<Figure size 432x288 with 1 Axes>"
      ]
     },
     "metadata": {
      "needs_background": "light"
     },
     "output_type": "display_data"
    }
   ],
   "source": [
    "test_k_neighbors_stratify(X, y, True)"
   ]
  },
  {
   "cell_type": "markdown",
   "id": "level-weight",
   "metadata": {},
   "source": [
    "# Glass"
   ]
  },
  {
   "cell_type": "code",
   "execution_count": 20,
   "id": "integrated-pickup",
   "metadata": {},
   "outputs": [],
   "source": [
    "X, y = split_df(glass_df)\n",
    "X_train, X_test, y_train, y_test = train_test_split(X, y, test_size=0.33)"
   ]
  },
  {
   "cell_type": "code",
   "execution_count": 21,
   "id": "integral-joining",
   "metadata": {},
   "outputs": [
    {
     "name": "stdout",
     "output_type": "stream",
     "text": [
      "classes: [1 3 2 7 6 5]\n",
      "precision: [0.5        0.76923077 1.         0.         0.         0.66666667]\n",
      "recall: [0.81818182 0.66666667 0.125      0.         0.         0.8       ]\n",
      "f-score: [0.62068966 0.71428571 0.22222222 0.         0.         0.72727273]\n",
      "accuracy: 0.6056338028169014\n"
     ]
    }
   ],
   "source": [
    "get_stats(X_train, X_test, y_train, y_test)"
   ]
  },
  {
   "cell_type": "code",
   "execution_count": 22,
   "id": "embedded-parish",
   "metadata": {},
   "outputs": [
    {
     "name": "stdout",
     "output_type": "stream",
     "text": [
      "2 folds:\n",
      "\tno shuffle: 0.19378370100882605\n",
      "\tshuffle: 0.619312193700766\n",
      "5 folds:\n",
      "\tno shuffle: 0.42109301134807503\n",
      "\tshuffle: 0.5926650235700344\n",
      "10 folds:\n",
      "\tno shuffle: 0.6207481443755953\n",
      "\tshuffle: 0.6327032945431884\n",
      "leave one out: 0.6728971962616822\n"
     ]
    }
   ],
   "source": [
    "test_cv(X, y)"
   ]
  },
  {
   "cell_type": "code",
   "execution_count": 23,
   "id": "liked-arrow",
   "metadata": {},
   "outputs": [
    {
     "data": {
      "image/png": "[encoded data removed]",
      "text/plain": [
       "<Figure size 432x288 with 1 Axes>"
      ]
     },
     "metadata": {
      "needs_background": "light"
     },
     "output_type": "display_data"
    }
   ],
   "source": [
    "test_k_neighbors(X, y)"
   ]
  },
  {
   "cell_type": "code",
   "execution_count": 24,
   "id": "funny-german",
   "metadata": {},
   "outputs": [
    {
     "data": {
      "image/png": "[encoded data removed]",
      "text/plain": [
       "<Figure size 432x288 with 1 Axes>"
      ]
     },
     "metadata": {
      "needs_background": "light"
     },
     "output_type": "display_data"
    }
   ],
   "source": [
    "test_weights(X, y)"
   ]
  },
  {
   "cell_type": "code",
   "execution_count": 25,
   "id": "informed-anger",
   "metadata": {
    "scrolled": true
   },
   "outputs": [
    {
     "data": {
      "image/png": "[encoded data removed]",
      "text/plain": [
       "<Figure size 432x288 with 1 Axes>"
      ]
     },
     "metadata": {
      "needs_background": "light"
     },
     "output_type": "display_data"
    }
   ],
   "source": [
    "test_metrics(X, y)"
   ]
  },
  {
   "cell_type": "markdown",
   "id": "destroyed-render",
   "metadata": {},
   "source": [
    "## Stratyfikacja"
   ]
  },
  {
   "cell_type": "code",
   "execution_count": 26,
   "id": "composed-coach",
   "metadata": {},
   "outputs": [
    {
     "data": {
      "image/png": "[encoded data removed]",
      "text/plain": [
       "<Figure size 432x288 with 1 Axes>"
      ]
     },
     "metadata": {
      "needs_background": "light"
     },
     "output_type": "display_data"
    }
   ],
   "source": [
    "test_k_neighbors_stratify(X, y, False)"
   ]
  },
  {
   "cell_type": "code",
   "execution_count": 27,
   "id": "developing-float",
   "metadata": {},
   "outputs": [
    {
     "name": "stderr",
     "output_type": "stream",
     "text": [
      "c:\\users\\kajetan\\studia-mag\\ai-venv\\lib\\site-packages\\sklearn\\model_selection\\_split.py:666: UserWarning: The least populated class in y has only 9 members, which is less than n_splits=10.\n",
      "  warnings.warn((\"The least populated class in y has only %d\"\n",
      "c:\\users\\kajetan\\studia-mag\\ai-venv\\lib\\site-packages\\sklearn\\model_selection\\_split.py:666: UserWarning: The least populated class in y has only 9 members, which is less than n_splits=11.\n",
      "  warnings.warn((\"The least populated class in y has only %d\"\n"
     ]
    },
    {
     "data": {
      "image/png": "[encoded data removed]",
      "text/plain": [
       "<Figure size 432x288 with 1 Axes>"
      ]
     },
     "metadata": {
      "needs_background": "light"
     },
     "output_type": "display_data"
    }
   ],
   "source": [
    "test_k_neighbors_stratify(X, y, True)"
   ]
  },
  {
   "cell_type": "markdown",
   "id": "alien-prayer",
   "metadata": {},
   "source": [
    "# Wine"
   ]
  },
  {
   "cell_type": "code",
   "execution_count": 28,
   "id": "overall-dakota",
   "metadata": {},
   "outputs": [],
   "source": [
    "X, y = split_df(wine_df)\n",
    "X_train, X_test, y_train, y_test = train_test_split(X, y, test_size=0.33)"
   ]
  },
  {
   "cell_type": "code",
   "execution_count": 29,
   "id": "informal-planet",
   "metadata": {},
   "outputs": [
    {
     "name": "stdout",
     "output_type": "stream",
     "text": [
      "classes: [2 1 3]\n",
      "precision: [0.86363636 0.8        0.35294118]\n",
      "recall: [0.95       0.61538462 0.46153846]\n",
      "f-score: [0.9047619  0.69565217 0.4       ]\n",
      "accuracy: 0.6949152542372882\n"
     ]
    }
   ],
   "source": [
    "get_stats(X_train, X_test, y_train, y_test)"
   ]
  },
  {
   "cell_type": "code",
   "execution_count": 30,
   "id": "sixth-restoration",
   "metadata": {},
   "outputs": [
    {
     "name": "stdout",
     "output_type": "stream",
     "text": [
      "2 folds:\n",
      "\tno shuffle: 0.2554655517812037\n",
      "\tshuffle: 0.7059680830869044\n",
      "5 folds:\n",
      "\tno shuffle: 0.673603653652538\n",
      "\tshuffle: 0.676222101263509\n",
      "10 folds:\n",
      "\tno shuffle: 0.7309527506932836\n",
      "\tshuffle: 0.6811323643676584\n",
      "leave one out: 0.6966292134831461\n"
     ]
    }
   ],
   "source": [
    "test_cv(X, y)"
   ]
  },
  {
   "cell_type": "code",
   "execution_count": 31,
   "id": "involved-poison",
   "metadata": {},
   "outputs": [
    {
     "data": {
      "image/png": "[encoded data removed]",
      "text/plain": [
       "<Figure size 432x288 with 1 Axes>"
      ]
     },
     "metadata": {
      "needs_background": "light"
     },
     "output_type": "display_data"
    }
   ],
   "source": [
    "test_k_neighbors(X, y)"
   ]
  },
  {
   "cell_type": "code",
   "execution_count": 32,
   "id": "burning-sending",
   "metadata": {},
   "outputs": [
    {
     "data": {
      "image/png": "[encoded data removed]",
      "text/plain": [
       "<Figure size 432x288 with 1 Axes>"
      ]
     },
     "metadata": {
      "needs_background": "light"
     },
     "output_type": "display_data"
    }
   ],
   "source": [
    "test_weights(X, y)"
   ]
  },
  {
   "cell_type": "code",
   "execution_count": 33,
   "id": "supported-advocate",
   "metadata": {
    "scrolled": true
   },
   "outputs": [
    {
     "data": {
      "image/png": "[encoded data removed]",
      "text/plain": [
       "<Figure size 432x288 with 1 Axes>"
      ]
     },
     "metadata": {
      "needs_background": "light"
     },
     "output_type": "display_data"
    }
   ],
   "source": [
    "test_metrics(X, y)"
   ]
  },
  {
   "cell_type": "markdown",
   "id": "processed-robin",
   "metadata": {},
   "source": [
    "## Stratyfikacja"
   ]
  },
  {
   "cell_type": "code",
   "execution_count": 34,
   "id": "extraordinary-fabric",
   "metadata": {
    "scrolled": true
   },
   "outputs": [
    {
     "data": {
      "image/png": "[encoded data removed]",
      "text/plain": [
       "<Figure size 432x288 with 1 Axes>"
      ]
     },
     "metadata": {
      "needs_background": "light"
     },
     "output_type": "display_data"
    }
   ],
   "source": [
    "test_k_neighbors_stratify(X, y, False)"
   ]
  },
  {
   "cell_type": "code",
   "execution_count": 35,
   "id": "infectious-criminal",
   "metadata": {},
   "outputs": [
    {
     "data": {
      "image/png": "[encoded data removed]",
      "text/plain": [
       "<Figure size 432x288 with 1 Axes>"
      ]
     },
     "metadata": {
      "needs_background": "light"
     },
     "output_type": "display_data"
    }
   ],
   "source": [
    "test_k_neighbors_stratify(X, y, True)"
   ]
  }
 ],
 "metadata": {
  "kernelspec": {
   "display_name": "ai-venv",
   "language": "python",
   "name": "ai-venv"
  },
  "language_info": {
   "codemirror_mode": {
    "name": "ipython",
    "version": 3
   },
   "file_extension": ".py",
   "mimetype": "text/x-python",
   "name": "python",
   "nbconvert_exporter": "python",
   "pygments_lexer": "ipython3",
   "version": "3.8.1"
  }
 },
 "nbformat": 4,
 "nbformat_minor": 5
}
