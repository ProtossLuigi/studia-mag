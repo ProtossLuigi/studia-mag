{
 "cells": [
  {
   "cell_type": "markdown",
   "id": "5178b30f",
   "metadata": {},
   "source": [
    "### Wykrywanie obiektów w OpenCV - materiał bonusowy, ale przydatny\n",
    "\n",
    "Niezwykle ważnym narzędziem w bibliotece OpenCV jest funkcja pozwalająca na wykrywanie obiektów na obrazach binarnych i reprezentowanie ich poprzez ich kontury: [`cv2.findContours`](https://docs.opencv.org/4.5.3/d3/dc0/group__imgproc__shape.html#gadf1ad6a0b82947fa1fe3c3d497f260e0). Działa ona poprzez identyfikowanie zgrupowań niezerowych pikseli i zwraca ich kontur jako listę punktów - łamana poprowadzona między tymi punktami w całości zawiera wykryty obszar. Funkcja identyfikuje wszystkie grupy na obrazie, a co więcej, potrafi (opcjonalnie) rozpoznać hierarchię konturów (jeżeli jakiś obszar znajduje się wewnątrz innego).\n",
    "\n",
    "Kontury są bardzo użyteczne w przetwarzaniu obrazów. Można za ich pomocą identyfikować rejony zainteresowania na obrazie, można wykonywać operacje na nich samych, a nawet wykorzystać je bezpośrednio do pozyskiwania _informacji_ o obiektach np. przez analizę kształtu konturu."
   ]
  },
  {
   "cell_type": "code",
   "execution_count": 1,
   "id": "fd5c82db",
   "metadata": {},
   "outputs": [],
   "source": [
    "import cv2\n",
    "import matplotlib.pyplot as plt\n",
    "import numpy as np"
   ]
  },
  {
   "cell_type": "markdown",
   "id": "d2719ec3",
   "metadata": {},
   "source": [
    "Rozpatrzmy poniższy obraz:"
   ]
  },
  {
   "cell_type": "code",
   "execution_count": 5,
   "id": "28c351ff",
   "metadata": {},
   "outputs": [
    {
     "data": {
      "image/png": "[encoded data removed]",
      "text/plain": [
       "<Figure size 432x288 with 1 Axes>"
      ]
     },
     "metadata": {
      "needs_background": "light"
     },
     "output_type": "display_data"
    }
   ],
   "source": [
    "image = np.zeros((600, 800), dtype=np.uint8)\n",
    "cv2.circle(image, (403, 218), 80, 255, -1)\n",
    "cv2.circle(image, (522, 278), 80, 255, -1)\n",
    "cv2.circle(image, (127, 490), 80, 255, -1)\n",
    "\n",
    "plt.imshow(image, interpolation='none', cmap='gray');"
   ]
  },
  {
   "cell_type": "markdown",
   "id": "bb8bab23",
   "metadata": {},
   "source": [
    "Wykryjmy na nim kontury używając najprostszej metody `cv2.RETR_EXTERNAL`, która ignoruje hierarchię i zwraca tylko zewnętrzne kontury. Flaga `cv2.CHAIN_APPROX_SIMPLE` powoduje uproszczenie wyjściowych konturów poprzez aproksymację za pomocą odcinków (w przeciwnym razie `findContours` zwraca _wszystkie_ punkty brzegowe, których może być bardzo wiele)."
   ]
  },
  {
   "cell_type": "code",
   "execution_count": 18,
   "id": "da64001b",
   "metadata": {},
   "outputs": [
    {
     "name": "stdout",
     "output_type": "stream",
     "text": [
      "<class 'list'> 2\n"
     ]
    }
   ],
   "source": [
    "contours, hierarchy = cv2.findContours(image, mode=cv2.RETR_EXTERNAL, method=cv2.CHAIN_APPROX_SIMPLE)\n",
    "print(type(contours), len(contours))"
   ]
  },
  {
   "cell_type": "markdown",
   "id": "7f30749a",
   "metadata": {},
   "source": [
    "Zauważamy, że funkcja zwraca listę wszystkich konturów (oraz listę hierarchii między nimi, którą w tej mini-instrukcji zignorujemy). Przyjrzyjmy się, co jest w środku:"
   ]
  },
  {
   "cell_type": "code",
   "execution_count": 9,
   "id": "b9604649",
   "metadata": {},
   "outputs": [
    {
     "name": "stdout",
     "output_type": "stream",
     "text": [
      "(244, 1, 2)\n",
      "(408, 1, 2)\n"
     ]
    }
   ],
   "source": [
    "for contour in contours:\n",
    "    print(contour.shape)"
   ]
  },
  {
   "cell_type": "markdown",
   "id": "3a089c3a",
   "metadata": {},
   "source": [
    "Wyjściem są `ndarray` zawierające punkty brzegowe każdego konturu, w nieco dziwnej aranżacji: `Nx1x2`, gdzie N jest liczbą punktów, w wymiarze 1 nie ma nic, a dopiero w wymiarze 2 znajdują się współrzędne punktów.\n",
    "\n",
    "Podglądanie zawartości liczbowej konturów nie ma większego sensu, ale dla podglądu możemy je wyświetlić za pomocą [`cv2.drawContours`](https://docs.opencv.org/4.5.3/d6/d6e/group__imgproc__draw.html#ga746c0625f1781f1ffc9056259103edbc):"
   ]
  },
  {
   "cell_type": "code",
   "execution_count": 11,
   "id": "c1664db1",
   "metadata": {},
   "outputs": [
    {
     "data": {
      "image/png": "[encoded data removed]",
      "text/plain": [
       "<Figure size 432x288 with 1 Axes>"
      ]
     },
     "metadata": {
      "needs_background": "light"
     },
     "output_type": "display_data"
    }
   ],
   "source": [
    "image_c = np.zeros_like(image)\n",
    "cv2.drawContours(image_c, contours=contours, contourIdx=-1, color=255, thickness=2)\n",
    "\n",
    "plt.imshow(image_c, interpolation='none', cmap='gray');"
   ]
  },
  {
   "cell_type": "markdown",
   "id": "851b3656",
   "metadata": {},
   "source": [
    "Ujemna grubość kreski pozwala na wypełnienie konturów. Poniżej przykład rysowania w kolorze:"
   ]
  },
  {
   "cell_type": "code",
   "execution_count": 14,
   "id": "dd92f2fe",
   "metadata": {},
   "outputs": [
    {
     "data": {
      "image/png": "[encoded data removed]",
      "text/plain": [
       "<Figure size 432x288 with 1 Axes>"
      ]
     },
     "metadata": {
      "needs_background": "light"
     },
     "output_type": "display_data"
    }
   ],
   "source": [
    "image_c3 = np.zeros((*image.shape, 3), dtype=np.uint8)\n",
    "cv2.drawContours(image_c3, contours=contours, contourIdx=0, color=(255, 0, 0), thickness=-1)\n",
    "cv2.drawContours(image_c3, contours=contours, contourIdx=1, color=(0, 255, 0), thickness=-1)\n",
    "\n",
    "plt.imshow(image_c3, interpolation='none');"
   ]
  },
  {
   "cell_type": "markdown",
   "id": "292abc6e",
   "metadata": {},
   "source": [
    "Kontury można oczywiście przetwarzać na najróżniejsze sposoby, ale jeśli temat Cię interesuje - zapoznaj się we własnym zakresie np. z funkcjami `cv2.contourArea`, `cv2.convexHull` czy `cv2.moments`."
   ]
  }
 ],
 "metadata": {
  "kernelspec": {
   "display_name": "Python 3 (ipykernel)",
   "language": "python",
   "name": "python3"
  },
  "language_info": {
   "codemirror_mode": {
    "name": "ipython",
    "version": 3
   },
   "file_extension": ".py",
   "mimetype": "text/x-python",
   "name": "python",
   "nbconvert_exporter": "python",
   "pygments_lexer": "ipython3",
   "version": "3.9.5"
  }
 },
 "nbformat": 4,
 "nbformat_minor": 5
}
