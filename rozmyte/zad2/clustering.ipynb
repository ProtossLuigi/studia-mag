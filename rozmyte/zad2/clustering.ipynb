{
 "cells": [
  {
   "cell_type": "code",
   "execution_count": 1,
   "metadata": {},
   "outputs": [],
   "source": [
    "import cv2\n",
    "from PIL import Image\n",
    "import numpy as np\n",
    "from tqdm import tqdm\n",
    "from copy import copy"
   ]
  },
  {
   "cell_type": "code",
   "execution_count": 2,
   "metadata": {},
   "outputs": [
    {
     "data": {
      "image/png": "[encoded data removed]",
      "text/plain": [
       "<PIL.Image.Image image mode=RGB size=40x40 at 0x1F4D39630A0>"
      ]
     },
     "execution_count": 2,
     "metadata": {},
     "output_type": "execute_result"
    }
   ],
   "source": [
    "# img = cv2.cvtColor(cv2.imread('Monety_kolor.bmp')[:200,:200,...], cv2.COLOR_BGR2HSV)\n",
    "img = cv2.imread('Monety_kolor.bmp')[:200,:200,...]\n",
    "img = cv2.resize(img, (40,40))\n",
    "Image.fromarray(cv2.cvtColor(img, cv2.COLOR_BGR2RGB))"
   ]
  },
  {
   "cell_type": "code",
   "execution_count": 3,
   "metadata": {},
   "outputs": [],
   "source": [
    "data = img.reshape(-1, 3)"
   ]
  },
  {
   "cell_type": "code",
   "execution_count": 4,
   "metadata": {},
   "outputs": [],
   "source": [
    "def calculate_relations(data):\n",
    "    n = data.shape[0]\n",
    "    m1 = np.stack([data for _ in range(n)], axis=0).astype(np.float32)\n",
    "    m2 = np.stack([data for _ in range(n)], axis=1).astype(np.float32)\n",
    "    diff = m1 - m2\n",
    "    fuzzy_rels = np.linalg.norm(diff, axis=-1)\n",
    "    return 1 - fuzzy_rels / np.max(fuzzy_rels)\n",
    "\n",
    "def make_transitive(rels):\n",
    "    old_rels = None\n",
    "    while np.any(rels != old_rels):\n",
    "        old_rels = copy(rels)\n",
    "        rels = np.maximum(rels, np.max(np.minimum(rels[...,np.newaxis], rels[np.newaxis,...]), axis=1))\n",
    "    return rels"
   ]
  },
  {
   "cell_type": "code",
   "execution_count": 5,
   "metadata": {},
   "outputs": [],
   "source": [
    "fuzzy_rels = calculate_relations(data)"
   ]
  },
  {
   "cell_type": "code",
   "execution_count": 6,
   "metadata": {},
   "outputs": [],
   "source": [
    "fuzzy_rels = make_transitive(fuzzy_rels)"
   ]
  },
  {
   "cell_type": "code",
   "execution_count": 7,
   "metadata": {},
   "outputs": [],
   "source": [
    "THRESHOLD = .99\n",
    "\n",
    "rels = fuzzy_rels > THRESHOLD\n",
    "clusters = np.unique(rels, axis=0, return_counts=True)"
   ]
  },
  {
   "cell_type": "code",
   "execution_count": 8,
   "metadata": {},
   "outputs": [
    {
     "data": {
      "text/plain": [
       "array([   1,    1,    1,    1,    1,    1,    1,    1,    1,    1,    1,\n",
       "          1,    1,    1,    1,    1,    1,    1,    1,    1,    1,    1,\n",
       "          1,    2,    1,    1,    3,    1,    1,    1,    1,    1,    1,\n",
       "          1,    1,    1,    1,    1,    2,    1,    1,    2,    1,    1,\n",
       "          1,    1,    1,    1,    1,    1,    1,    1,    1,    2,    1,\n",
       "          1,    1,    1,    1,    1,    1,    1,    1,    1,    1,    1,\n",
       "          1,    1,    1,    1,    1,    1,    1,    1,    2,    1,    1,\n",
       "          1,    2,    2,    3,    1,    1,    1,    1,    1,    5,    1,\n",
       "          1,    2,    1,    1,    1,    1,    1,    1,    2,    1,    1,\n",
       "          1,    1,    3,    1,    1,    1,    1,    1,    1,    2,    1,\n",
       "          1,    1,    2,    1,    1,    8,    2,    1,    1,    1,    5,\n",
       "          1,    1,    2,    1,    1,    1,    1,    1,    1,    2,    4,\n",
       "          1,    1,    1,    1,    2,    1,    1,    1,    1,   33,    1,\n",
       "          3,    1,    1,    2,  291,    1,    1,    1,    4,    2,    1,\n",
       "          2,    1,    1,    1,    1,    2,    1, 1069], dtype=int64)"
      ]
     },
     "execution_count": 8,
     "metadata": {},
     "output_type": "execute_result"
    }
   ],
   "source": [
    "clusters[1]"
   ]
  },
  {
   "cell_type": "code",
   "execution_count": 9,
   "metadata": {},
   "outputs": [
    {
     "name": "stderr",
     "output_type": "stream",
     "text": [
      "100%|██████████| 162/162 [00:00<00:00, 450.78it/s]\n"
     ]
    }
   ],
   "source": [
    "idx = np.zeros(data.shape[0])\n",
    "for i in tqdm(range(clusters[0].shape[0])):\n",
    "    idx[np.all(rels==clusters[0][i],axis=1)] = i"
   ]
  },
  {
   "cell_type": "code",
   "execution_count": 10,
   "metadata": {},
   "outputs": [
    {
     "data": {
      "image/png": "[encoded data removed]",
      "text/plain": [
       "<PIL.Image.Image image mode=RGB size=40x40 at 0x1F4D3E63670>"
      ]
     },
     "execution_count": 10,
     "metadata": {},
     "output_type": "execute_result"
    }
   ],
   "source": [
    "segmented = idx.reshape(img.shape[:2]).astype(np.uint8)\n",
    "out_img = cv2.applyColorMap(segmented, cv2.COLORMAP_HSV)\n",
    "Image.fromarray(out_img)"
   ]
  }
 ],
 "metadata": {
  "interpreter": {
   "hash": "023920b4cdc354a5fdceac4ae02efcd2b520331bfaaf6bd69020f62cbcae6e8d"
  },
  "kernelspec": {
   "display_name": "Python 3.10.4 64-bit (windows store)",
   "language": "python",
   "name": "python3"
  },
  "language_info": {
   "codemirror_mode": {
    "name": "ipython",
    "version": 3
   },
   "file_extension": ".py",
   "mimetype": "text/x-python",
   "name": "python",
   "nbconvert_exporter": "python",
   "pygments_lexer": "ipython3",
   "version": "3.10.4"
  },
  "orig_nbformat": 4
 },
 "nbformat": 4,
 "nbformat_minor": 2
}
